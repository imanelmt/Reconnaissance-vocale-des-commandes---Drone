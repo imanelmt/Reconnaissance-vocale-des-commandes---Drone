{
 "cells": [
  {
   "cell_type": "markdown",
   "metadata": {},
   "source": [
    "\n",
    "## Reconnaissance de commandes audio par programmation dynamique (DTW)\n",
    "\n",
    "\n",
    "- Partie I : DTW (algorithme de programmation dynamique)\n",
    "- Partie II : Système de reconnaissance audio de mots de commande\n",
    "- Partie III : Comparaison de la programmation dynamique avec une méthode de classification après prétraitement des données\n",
    "\n",
    "  On testera le système de reconnaissance audio sur deux corpus de voix qui serviront respectivement de base d'apprentissage (références) et de base de test (sons à reconnaître) qu'on choisira.\n",
    "  La liste des 13 commandes au drone sont : *Atterrissage, Décollage, Avance, Tourne droite, Recule, Tourne gauche, Droite, Fais un flip, Gauche, Arrête toi, plus haut, plus bas et Etat d'urgence.*"
   ]
  },
  {
   "cell_type": "code",
   "execution_count": 2,
   "metadata": {},
   "outputs": [],
   "source": [
    "import matplotlib.pyplot as plt\n",
    "import numpy as np \n",
    "from numpy import array, zeros, full, argmin, inf, ndim\n",
    "import scipy\n",
    "import sklearn\n",
    "import math\n",
    "import os \n",
    "from os import walk \n",
    "from sklearn.metrics import confusion_matrix\n"
   ]
  },
  {
   "cell_type": "markdown",
   "metadata": {},
   "source": [
    "# Partie I : DTW, calcul et l'affichage de la matrice des coûts. \n"
   ]
  },
  {
   "cell_type": "code",
   "execution_count": 3,
   "metadata": {},
   "outputs": [],
   "source": [
    "def DTW(A,B,d) : \n",
    "    w0 = 1\n",
    "    w1 = 1\n",
    "    w2 = 1 \n",
    "    n = len(A)\n",
    "    m = len(B)\n",
    "    g = np.zeros((n+1,m+1))\n",
    "    c = np.zeros((n+1,m+1))  # la direction du minimum choisi  \n",
    "    for j in range(1,m+1) :\n",
    "        g[0,j] = inf \n",
    "        c[0,j] = inf \n",
    "    for i in range(1,n+1) : \n",
    "        g[i,0] = inf\n",
    "        c[i,0] = inf             \n",
    "        for j in range(1,m+1) : \n",
    "            l = [ (g[i-1,j]+ w0 *d(A[i-1],B[j-1])), (g[i-1,j-1]+w1*d(A[i-1],B[j-1])), (g[i,j-1]+w2*d(A[i-1],B[j-1]))]\n",
    "            g[i,j] = min(l)\n",
    "            if (g[i-1,j-1]+w1*d(A[i-1],B[j-1])) == min(l) : \n",
    "                c[i,j] = 1\n",
    "            else :    \n",
    "                c[i,j] = l.index(min(l))   \n",
    "    \n",
    "    i=n\n",
    "    j=m\n",
    "    chemin = []\n",
    "    while ((i!= 1) & (j !=1)) :      \n",
    "        chemin.append((A[i-1],B[j-1]))\n",
    "        if c[i,j] == 0 : \n",
    "            i = i-1\n",
    "        elif c[i,j] == 2: \n",
    "            j = j-1\n",
    "        else :\n",
    "            i = i-1\n",
    "            j=j-1\n",
    "            \n",
    "    chemin.append((A[0],B[0]))        \n",
    "    score = g[n,m]/(n+m)\n",
    "    return score"
   ]
  },
  {
   "cell_type": "markdown",
   "metadata": {},
   "source": [
    "### Test du programme "
   ]
  },
  {
   "cell_type": "code",
   "execution_count": 26,
   "metadata": {
    "scrolled": true
   },
   "outputs": [
    {
     "name": "stdout",
     "output_type": "stream",
     "text": [
      "0.8888888888888888\n"
     ]
    }
   ],
   "source": [
    "def d(a,b) : \n",
    "    return abs(a-b)\n",
    "\n",
    "A = [2,1,-1,0] \n",
    "B = [-1,0,1,2,1] \n",
    "\n",
    "res = DTW(A,B,d)   \n",
    "print(res)\n"
   ]
  },
  {
   "cell_type": "markdown",
   "metadata": {},
   "source": [
    "# Partie II :  Système de reconnaissance audio de mots de commande\n",
    "\n",
    "La base des données contient des enregistrements audio de mots de commandes pour un drone quadricoptère constitués de plusieurs locuteurs masculins (notés M01..M13) et locutrice féminines (F01..F05).\n",
    "\n",
    "On peut diviser ainsi l'ensemble des données en base d'apprentissage qui serviront de références et base de test pour évaluer la reconnaissance par programmation dynamique."
   ]
  },
  {
   "cell_type": "code",
   "execution_count": 4,
   "metadata": {},
   "outputs": [],
   "source": [
    "import librosa"
   ]
  },
  {
   "cell_type": "markdown",
   "metadata": {},
   "source": [
    "Nous allons transformer le fichier audio en matrice de paramètres appélés MFCC (Mel Frequency Cepstral Coefficient) en utilisant la librairie python *librosa*. Ces paramètres permettent d'extraire au mieux le contenu vocal fréquenciel de signal audio.\n",
    "\n",
    "La matrice de sortie est composée d'autant de vecteurs colonnes que de trames d'analyses. Le nombre de lignes correspond à la dimension du vecteur représentatif : ici 12."
   ]
  },
  {
   "cell_type": "markdown",
   "metadata": {},
   "source": [
    "**Calcul des MFCC**"
   ]
  },
  {
   "cell_type": "code",
   "execution_count": 5,
   "metadata": {
    "scrolled": true
   },
   "outputs": [
    {
     "name": "stdout",
     "output_type": "stream",
     "text": [
      "['F01_arretetoi.wav', 'F01_atterrissage.wav', 'F01_droite.wav', 'F01_etatdurgence.wav', 'F01_gauche.wav', 'F01_tournedroite.wav', 'F01_tournegauche.wav', 'F02_recule.wav', 'F03_decollage.wav', 'F03_droite.wav', 'F03_gauche.wav', 'F03_plusbas.wav', 'F03_plushaut.wav', 'F06_arretetoi.wav', 'F06_atterrissage.wav', 'F06_avance.wav', 'F06_decollage.wav', 'F06_droite.wav', 'F06_etatdurgence.wav', 'F06_faisunflip.wav', 'F06_gauche.wav', 'F06_plusbas.wav', 'F06_plushaut.wav', 'F06_recule.wav', 'F06_tournedroite.wav', 'F06_tournegauche.wav', 'M04_arretetoi.wav', 'M04_atterrissage.wav', 'M04_etatdurgence.wav', 'M04_gauche.wav', 'M04_plusbas.wav', 'M04_plushaut.wav', 'M04_tournedroite.wav', 'M04_tournegauche.wav', 'M05_atterrissage.wav', 'M05_avance.wav', 'M05_etatdurgence.wav', 'M05_plushaut.wav', 'M05_recule.wav', 'M05_tournedroite.wav', 'M05_tournegauche.wav', 'M06_decollage.wav', 'M06_droite.wav', 'M06_gauche.wav', 'M07_arretetoi.wav', 'M07_avance.wav', 'M07_plusbas.wav', 'M07_recule.wav', 'M08_avance.wav', 'M08_decollage.wav', 'M08_plusbas.wav', 'M08_plushaut.wav', 'M09_gauche.wav', 'M09_plushaut.wav', 'M10_arretetoi.wav', 'M10_atterrissage.wav', 'M10_droite.wav', 'M10_etatdurgence.wav', 'M10_gauche.wav', 'M10_plushaut.wav', 'M10_tournedroite.wav', 'M10_tournegauche.wav', 'M11_atterrissage.wav', 'M11_decollage.wav', 'M11_etatdurgence.wav', 'M11_plusbas.wav', 'M11_plushaut.wav', 'M11_recule.wav', 'M11_tournedroite.wav', 'M11_tournegauche.wav', 'M12_droite.wav', 'M12_gauche.wav', 'M12_plusbas.wav', 'M13_arretetoi.wav', 'M13_avance.wav', 'M13_recule.wav', 'M14_arretetoi.wav', 'M14_atterrissage.wav', 'M14_avance.wav', 'M14_decollage.wav', 'M14_droite.wav', 'M14_etatdurgence.wav', 'M14_gauche.wav', 'M14_plusbas.wav', 'M14_plushaut.wav', 'M14_recule.wav', 'M14_tournedroite.wav', 'M14_tournegauche.wav']\n"
     ]
    }
   ],
   "source": [
    "\n",
    "# charger les données de la base d'apprentissage et de test \n",
    "path_app = './App3'\n",
    "path_test = './Test5'\n",
    "\n",
    "#charger des données de la base d'apprentissage \n",
    "liste_app = os.listdir(path_app);\n",
    "print(liste_app);\n",
    "files_app = [path_app + '/' + e for e in liste_app];\n",
    "label_app = [(e.split('_')[1]).split('.')[0]  for e in liste_app];\n",
    "\n",
    "#charger les données de la base de test \n",
    "liste_test = os.listdir(path_test); \n",
    "files_test = [path_test + '/' + e for e in liste_test];\n",
    "label_test = [(e.split('_')[1]).split('.')[0] for e in liste_test];\n"
   ]
  },
  {
   "cell_type": "markdown",
   "metadata": {},
   "source": [
    "**Application de la DTW sur le corpus**\n",
    "\n",
    "**Paramètres pour enregistrements audio des voix perso:**\n",
    "\n",
    "16 KHz, mono, 16 bits, format *.wav*"
   ]
  },
  {
   "cell_type": "code",
   "execution_count": 6,
   "metadata": {},
   "outputs": [
    {
     "name": "stdout",
     "output_type": "stream",
     "text": [
      "['atterrissage', 'decollage', 'droite', 'plushaut', 'tournegauche', 'arretetoi', 'avance', 'etatdurgence', 'plusbas', 'recule', 'tournedroite', 'arretetoi', 'atterrissage', 'avance', 'decollage', 'droite', 'etatdurgence', 'faisunflip', 'gauche', 'plusbas', 'plushaut', 'recule', 'tournedroite', 'tournegauche', 'plusbas', 'atterrissage', 'droite', 'gauche', 'plusbas', 'tournegauche', 'avance', 'decollage', 'plushaut', 'recule', 'arretetoi', 'droite', 'gauche', 'plushaut', 'arretetoi', 'atterrissage', 'avance', 'decollage', 'droite', 'etatdurgence', 'gauche', 'plusbas', 'plushaut', 'recule', 'tournedroite', 'tournegauche']\n",
      "['gauche', 'atterrissage', 'atterrissage', 'atterrissage', 'atterrissage', 'atterrissage', 'atterrissage', 'atterrissage', 'atterrissage', 'atterrissage', 'atterrissage', 'atterrissage', 'atterrissage', 'atterrissage', 'decollage', 'droite', 'atterrissage', 'atterrissage', 'atterrissage', 'atterrissage', 'plusbas', 'atterrissage', 'tournedroite', 'tournegauche', 'atterrissage', 'etatdurgence', 'atterrissage', 'atterrissage', 'faisunflip', 'tournegauche', 'avance', 'atterrissage', 'tournegauche', 'atterrissage', 'recule', 'faisunflip', 'faisunflip', 'faisunflip', 'recule', 'atterrissage', 'avance', 'decollage', 'droite', 'etatdurgence', 'avance', 'plusbas', 'plushaut', 'recule', 'tournegauche', 'tournegauche']\n",
      "['M14_gauche.wav', 'M14_atterrissage.wav', 'M14_atterrissage.wav', 'M14_atterrissage.wav', 'M14_atterrissage.wav', 'M14_atterrissage.wav', 'M14_atterrissage.wav', 'M14_atterrissage.wav', 'M14_atterrissage.wav', 'M14_atterrissage.wav', 'M14_atterrissage.wav', 'M14_atterrissage.wav', 'M14_atterrissage.wav', 'M14_atterrissage.wav', 'F06_decollage.wav', 'F06_droite.wav', 'M14_atterrissage.wav', 'M14_atterrissage.wav', 'M14_atterrissage.wav', 'M14_atterrissage.wav', 'F06_plusbas.wav', 'M14_atterrissage.wav', 'F06_tournedroite.wav', 'F06_tournegauche.wav', 'M14_atterrissage.wav', 'F06_etatdurgence.wav', 'F06_atterrissage.wav', 'F06_atterrissage.wav', 'F06_faisunflip.wav', 'F06_tournegauche.wav', 'F06_avance.wav', 'F06_atterrissage.wav', 'F06_tournegauche.wav', 'F06_atterrissage.wav', 'M11_recule.wav', 'F06_faisunflip.wav', 'F06_faisunflip.wav', 'F06_faisunflip.wav', 'M14_recule.wav', 'M14_atterrissage.wav', 'M14_avance.wav', 'M14_decollage.wav', 'M14_droite.wav', 'M14_etatdurgence.wav', 'M14_avance.wav', 'M14_plusbas.wav', 'F06_plushaut.wav', 'M14_recule.wav', 'M14_tournegauche.wav', 'M14_tournegauche.wav']\n"
     ]
    }
   ],
   "source": [
    "def distance(a,b) : # distance euclidienne entre 2 vecteurs de taille 12 \n",
    "    return np.linalg.norm(a-b)\n",
    "\n",
    "label_pred_dtw = []; \n",
    "files_pred_dtw = []; \n",
    "\n",
    "for test in files_test :   \n",
    "    y_test, sr_test = librosa.load(test); \n",
    "    mfcc_test = librosa.feature.mfcc(y=y_test, sr=sr_test, hop_length=1024, htk=True, n_mfcc=12); \n",
    "    score = []; \n",
    "    for app in files_app : \n",
    "        y_app, sr_app = librosa.load(app); \n",
    "        mfcc_app = librosa.feature.mfcc(y=y_app, sr=sr_app, hop_length=1024, htk=True, n_mfcc=12); \n",
    "        score_app = DTW(np.transpose(mfcc_test), np.transpose(mfcc_app),distance); \n",
    "        score.append(score_app); \n",
    "    k = score.index(min(score));  \n",
    "    label_pred_dtw.append(label_app[k]);  \n",
    "    files_pred_dtw.append(liste_app[k]); \n",
    "print(label_test);\n",
    "print(label_pred_dtw); \n",
    "print(files_pred_dtw);  #nom du fichier predit "
   ]
  },
  {
   "cell_type": "markdown",
   "metadata": {},
   "source": [
    "**Evaluation de la reconnaissance**\n",
    "\n",
    "1. Calcul de la matrice de confusion du système\n",
    "\n",
    "2. Calcul du score de reconnaissance "
   ]
  },
  {
   "cell_type": "code",
   "execution_count": 7,
   "metadata": {
    "scrolled": false
   },
   "outputs": [
    {
     "name": "stdout",
     "output_type": "stream",
     "text": [
      "[[0 2 0 0 0 0 0 0 0 0 2 0 0]\n",
      " [0 2 0 0 0 1 0 1 0 0 0 0 0]\n",
      " [0 2 2 0 0 0 0 0 0 0 0 0 0]\n",
      " [0 2 0 2 0 0 0 0 0 0 0 0 0]\n",
      " [0 2 0 0 2 0 1 0 0 0 0 0 0]\n",
      " [0 2 0 0 0 1 0 0 0 0 0 0 0]\n",
      " [0 1 0 0 0 0 0 0 0 0 0 0 0]\n",
      " [0 2 1 0 0 0 1 0 0 0 0 0 0]\n",
      " [0 3 0 0 0 0 1 0 1 0 0 0 0]\n",
      " [0 1 0 0 0 0 1 0 1 1 0 0 1]\n",
      " [0 3 0 0 0 0 0 0 0 0 1 0 0]\n",
      " [0 1 0 0 0 0 0 0 0 0 0 1 1]\n",
      " [0 1 0 0 0 0 0 0 0 0 0 0 3]]\n",
      "score de reconnaissance : \n",
      "0.32\n",
      "score par rapport au sexe : \n",
      "0.8125\n",
      "[('droite', 0.0), ('faisunflip', 0.5), ('tournegauche', 0.5), ('plushaut', 0.5), ('recule', 0.4), ('gauche', 0.3333333333333333), ('avance', 0.0), ('tournedroite', 0.0), ('atterrissage', 0.2), ('decollage', 0.2), ('arretetoi', 0.25), ('plusbas', 0.3333333333333333), ('etatdurgence', 0.75)]\n"
     ]
    }
   ],
   "source": [
    "\n",
    "#calcul de la matrice de confuion avec la fonction confusion_matrix \n",
    "ordre = list(set(label_app)); \n",
    "#print(ordre); \n",
    "\n",
    "nbre_ordre = len(ordre);\n",
    "\n",
    "conf_dtw = confusion_matrix(label_test, label_pred_dtw); \n",
    "#print(label_test); \n",
    "#print(label_pred_dtw);\n",
    "print(conf_dtw);\n",
    "score_recon_dtw = (sum(conf_dtw[i][i] for i in range(len(conf_dtw))))/len(label_test); \n",
    "print('score de reconnaissance : '); \n",
    "print(score_recon_dtw); \n",
    "\n",
    "#score par rapport au sexe détecté \n",
    "# Tester la correction des labels, le sexe de la voix  \n",
    "index = 0; \n",
    "#print(len(files_pred_dtw));\n",
    "#print(liste_test); \n",
    "#print(files_pred_dtw);\n",
    "for i in range(0,len(label_test)-1) : \n",
    "    if label_test[i] == label_pred_dtw[i] and (liste_test[i][1] == files_pred_dtw[i][1]) : \n",
    "        index = index + 1;         \n",
    "#print(index);   \n",
    "score_sex = index/(sum(conf_dtw[i][i] for i in range(len(conf_dtw)))); \n",
    "\n",
    "print('score par rapport au sexe : '); \n",
    "print(score_sex); \n",
    "\n",
    "\n",
    "#score par rapport à chaque label \n",
    "score_label_dtw = []; \n",
    "for i in range(0,nbre_ordre) : \n",
    "    score_label_dtw.append((ordre[i],conf_dtw[i][i]/sum(conf_dtw[i]))); \n",
    "print(score_label_dtw);    "
   ]
  },
  {
   "cell_type": "markdown",
   "metadata": {},
   "source": [
    "## Partie III : Comparaison de la programmation dynamique (DTW) avec une méthode de classification (k-ppv) après prétraitement des données (ACP)"
   ]
  },
  {
   "cell_type": "code",
   "execution_count": 8,
   "metadata": {},
   "outputs": [],
   "source": [
    "from sklearn.preprocessing import StandardScaler\n",
    "from sklearn.neighbors import KNeighborsClassifier\n",
    "from mpl_toolkits.mplot3d import Axes3D"
   ]
  },
  {
   "cell_type": "code",
   "execution_count": 9,
   "metadata": {},
   "outputs": [],
   "source": [
    "# moyenne d'une matrice par colonne \n",
    "\n",
    "def mean(A) : \n",
    "    n = 12; \n",
    "    Ei = np.zeros((n,1)); \n",
    "    m = len(A[0]);\n",
    "    for i in range(n) : \n",
    "        for k in range(m) : \n",
    "            Ei[i,0] = Ei[i,0] + A[i,k]/m;\n",
    "    return Ei;           "
   ]
  },
  {
   "cell_type": "markdown",
   "metadata": {},
   "source": [
    "### Prétraitement par ACP\n",
    "\n",
    "Réduction de la dimension des MFCC\n",
    "\n",
    "1. Calcul du vecteur moyen de $R^{13}$ sur toutes les fenêtres de MFCC (chaque enregistrement sera représenté par un seul vecteur de 13 coefficients MFCC).\n",
    "\n",
    "2. Calcul des 3 axes principaux de l'ACP (on extrait les 3 vecteurs propres ($X_1$, $X_2$, $X_3$), associés aux 3 plus grandes valeurs propres de la matrice de variance-covariance $\\Sigma_{App}$. Ces vecteurs propres consitueront la nouvelle base de données.\n",
    "\n",
    "3. Projection des données de la base d'apprentissage et de test dans cette nouvelle base en multipliant chaque vecteur par la base $P = [X_1X_2X_3]$.\n"
   ]
  },
  {
   "cell_type": "code",
   "execution_count": 10,
   "metadata": {},
   "outputs": [
    {
     "name": "stdout",
     "output_type": "stream",
     "text": [
      "88\n",
      "(88, 12)\n",
      "(12, 2)\n"
     ]
    },
    {
     "data": {
      "image/png": "[encoded data removed]",
      "text/plain": [
       "<Figure size 432x288 with 1 Axes>"
      ]
     },
     "metadata": {
      "needs_background": "light"
     },
     "output_type": "display_data"
    }
   ],
   "source": [
    "E = np.zeros((12, len(files_app))); \n",
    "i = 0\n",
    "print(len(files_app));\n",
    "for app in files_app : \n",
    "    y_app, sr_app = librosa.load(app); \n",
    "    mfcc_app = librosa.feature.mfcc(y=y_app, sr=sr_app, hop_length=1024, htk=True, n_mfcc=12);  \n",
    "    E[:,i] = np.transpose(mean(mfcc_app));\n",
    "    i = i+1; \n",
    "E = np.transpose(E);  \n",
    "print(E.shape); \n",
    "\n",
    "\n",
    "#appliquer ACP \n",
    "from sklearn.decomposition import PCA \n",
    "pca = PCA(n_components=2)\n",
    "pca.fit(E); \n",
    "P = np.transpose(pca.components_); \n",
    "print(P.shape); \n",
    "\n",
    "\n",
    "# trouver E_test \n",
    "E_test = np.zeros((12, len(files_test))); \n",
    "kk = 0\n",
    "for test in files_test : \n",
    "    y_test, sr_test = librosa.load(test); \n",
    "    mfcc_test = librosa.feature.mfcc(y=y_test, sr=sr_test, hop_length=1024, htk=True, n_mfcc=12); \n",
    "    E_test[:,kk] = np.transpose(mean(mfcc_test));\n",
    "    kk = kk+1; \n",
    "    \n",
    "    \n",
    "E_test = np.transpose(E_test);   \n",
    "\n",
    "\n",
    "proj_test = E_test.dot(P); \n",
    "\n",
    "proj_app = E.dot(P); \n",
    "\n",
    "plt.scatter(proj_app[:,0], proj_app[:,1], c='r', alpha=0.5); \n",
    "\n",
    "plt.scatter(proj_test[:,0], proj_test[:,1], c='g', alpha=0.5); \n",
    "\n",
    "\n",
    " \n"
   ]
  },
  {
   "cell_type": "markdown",
   "metadata": {},
   "source": [
    "### Classification par $k$ plus proches voisins\n",
    "\n",
    "On dispose d'une base de données d'apprentissage constituée de couples  \"donnée-label\". Pour estimer la sortie associée à une nouvelle entrée $x$, la méthode des $k$ plus proches voisins consiste à prendre en compte (de façon identique) les $k$ échantillons d'apprentissage dont l'entrée est la plus proche de la nouvelle entrée $x$, selon une distance à définir. "
   ]
  },
  {
   "cell_type": "code",
   "execution_count": 11,
   "metadata": {},
   "outputs": [
    {
     "name": "stdout",
     "output_type": "stream",
     "text": [
      "[-111.45627898    5.49353836]\n",
      "[-158.0310589    12.42230179]\n",
      "[-157.35001879   12.15009584]\n",
      "[-155.16338902   12.17022471]\n",
      "[-155.45637813   12.83277895]\n",
      "[-152.56154798   12.98061661]\n",
      "[-155.94528331   11.74198473]\n",
      "[-155.52459808   12.8854596 ]\n",
      "[-140.84678293    9.74014158]\n",
      "[-142.38946544    9.25877517]\n",
      "[-136.94209887   10.77964899]\n",
      "[-109.53360485   17.49044422]\n",
      "[-105.60009776   12.03158869]\n",
      "[-118.09878741   15.8005241 ]\n",
      "[-134.13607745   35.20309062]\n",
      "[-168.82344918  104.80310723]\n",
      "[-103.71913545   18.50249951]\n",
      "[-122.35000044   13.35676988]\n",
      "[-118.75025224    7.91335465]\n",
      "[-115.14318428   15.43834909]\n",
      "[-167.43403043   83.72985209]\n",
      "[-111.54461512   15.22354212]\n",
      "[-153.91879988   86.86418126]\n",
      "[-148.27940012   37.33173339]\n",
      "[-113.54010426   21.06495348]\n",
      "[-150.63124898   -3.10601172]\n",
      "[-155.63796892    4.73538878]\n",
      "[-154.17235281   -9.68271118]\n",
      "[-223.96368398   33.9258083 ]\n",
      "[-143.63328732   -5.71041177]\n",
      "[-148.60607243   23.41823155]\n",
      "[-155.93768506   21.18693666]\n",
      "[-158.67936336   22.65859685]\n",
      "[-177.13553069   25.64669437]\n",
      "[-345.27525327  124.95324394]\n",
      "[-339.08446241  119.82695674]\n",
      "[-314.39430842  111.18256169]\n",
      "[-296.18551622  103.3016303 ]\n",
      "[-155.97358172  157.52835789]\n",
      "[-149.6279806   115.24446033]\n",
      "[-169.69806731  137.30774981]\n",
      "[-111.11288678  134.77392079]\n",
      "[-159.31854803  154.81054773]\n",
      "[-167.07789706  139.40288938]\n",
      "[-154.04335228  149.29204131]\n",
      "[-171.92818542  164.7312849 ]\n",
      "[-162.02188793  160.36225314]\n",
      "[-175.04021581  143.11171782]\n",
      "[-174.95743103  150.71182241]\n",
      "[-131.98981484  123.94686932]\n",
      "[array(['atterrissage'], dtype='<U12'), array(['atterrissage'], dtype='<U12'), array(['atterrissage'], dtype='<U12'), array(['atterrissage'], dtype='<U12'), array(['atterrissage'], dtype='<U12'), array(['atterrissage'], dtype='<U12'), array(['atterrissage'], dtype='<U12'), array(['atterrissage'], dtype='<U12'), array(['atterrissage'], dtype='<U12'), array(['atterrissage'], dtype='<U12'), array(['atterrissage'], dtype='<U12'), array(['avance'], dtype='<U12'), array(['tournegauche'], dtype='<U12'), array(['tournegauche'], dtype='<U12'), array(['tournegauche'], dtype='<U12'), array(['arretetoi'], dtype='<U12'), array(['avance'], dtype='<U12'), array(['atterrissage'], dtype='<U12'), array(['atterrissage'], dtype='<U12'), array(['tournegauche'], dtype='<U12'), array(['arretetoi'], dtype='<U12'), array(['tournegauche'], dtype='<U12'), array(['etatdurgence'], dtype='<U12'), array(['tournegauche'], dtype='<U12'), array(['avance'], dtype='<U12'), array(['atterrissage'], dtype='<U12'), array(['atterrissage'], dtype='<U12'), array(['atterrissage'], dtype='<U12'), array(['gauche'], dtype='<U12'), array(['atterrissage'], dtype='<U12'), array(['atterrissage'], dtype='<U12'), array(['atterrissage'], dtype='<U12'), array(['atterrissage'], dtype='<U12'), array(['atterrissage'], dtype='<U12'), array(['plusbas'], dtype='<U12'), array(['decollage'], dtype='<U12'), array(['arretetoi'], dtype='<U12'), array(['arretetoi'], dtype='<U12'), array(['tournegauche'], dtype='<U12'), array(['etatdurgence'], dtype='<U12'), array(['recule'], dtype='<U12'), array(['atterrissage'], dtype='<U12'), array(['tournegauche'], dtype='<U12'), array(['recule'], dtype='<U12'), array(['tournegauche'], dtype='<U12'), array(['decollage'], dtype='<U12'), array(['tournegauche'], dtype='<U12'), array(['recule'], dtype='<U12'), array(['recule'], dtype='<U12'), array(['atterrissage'], dtype='<U12')]\n"
     ]
    }
   ],
   "source": [
    "from sklearn.neighbors import KNeighborsClassifier\n",
    "\n",
    "\n",
    "DataA = proj_app; \n",
    "labelA = label_app; \n",
    "neigh = KNeighborsClassifier(n_neighbors=1,metric='minkowski'); \n",
    "neigh.fit(DataA, labelA);  \n",
    "KNeighborsClassifier(...)\n",
    "label_pred_acp = []; \n",
    "\n",
    "for dataT in proj_test : \n",
    "    print(dataT); \n",
    "    label_pred_acp.append(neigh.predict([dataT])); \n",
    "    \n",
    "print(label_pred_acp); \n",
    "\n",
    "    \n"
   ]
  },
  {
   "cell_type": "markdown",
   "metadata": {},
   "source": [
    "Evaluation de la méthode k-ppv"
   ]
  },
  {
   "cell_type": "code",
   "execution_count": 12,
   "metadata": {
    "scrolled": true
   },
   "outputs": [
    {
     "name": "stdout",
     "output_type": "stream",
     "text": [
      "['atterrissage', 'decollage', 'droite', 'plushaut', 'tournegauche', 'arretetoi', 'avance', 'etatdurgence', 'plusbas', 'recule', 'tournedroite', 'arretetoi', 'atterrissage', 'avance', 'decollage', 'droite', 'etatdurgence', 'faisunflip', 'gauche', 'plusbas', 'plushaut', 'recule', 'tournedroite', 'tournegauche', 'plusbas', 'atterrissage', 'droite', 'gauche', 'plusbas', 'tournegauche', 'avance', 'decollage', 'plushaut', 'recule', 'arretetoi', 'droite', 'gauche', 'plushaut', 'arretetoi', 'atterrissage', 'avance', 'decollage', 'droite', 'etatdurgence', 'gauche', 'plusbas', 'plushaut', 'recule', 'tournedroite', 'tournegauche']\n",
      "[array(['atterrissage'], dtype='<U12'), array(['atterrissage'], dtype='<U12'), array(['atterrissage'], dtype='<U12'), array(['atterrissage'], dtype='<U12'), array(['atterrissage'], dtype='<U12'), array(['atterrissage'], dtype='<U12'), array(['atterrissage'], dtype='<U12'), array(['atterrissage'], dtype='<U12'), array(['atterrissage'], dtype='<U12'), array(['atterrissage'], dtype='<U12'), array(['atterrissage'], dtype='<U12'), array(['avance'], dtype='<U12'), array(['tournegauche'], dtype='<U12'), array(['tournegauche'], dtype='<U12'), array(['tournegauche'], dtype='<U12'), array(['arretetoi'], dtype='<U12'), array(['avance'], dtype='<U12'), array(['atterrissage'], dtype='<U12'), array(['atterrissage'], dtype='<U12'), array(['tournegauche'], dtype='<U12'), array(['arretetoi'], dtype='<U12'), array(['tournegauche'], dtype='<U12'), array(['etatdurgence'], dtype='<U12'), array(['tournegauche'], dtype='<U12'), array(['avance'], dtype='<U12'), array(['atterrissage'], dtype='<U12'), array(['atterrissage'], dtype='<U12'), array(['atterrissage'], dtype='<U12'), array(['gauche'], dtype='<U12'), array(['atterrissage'], dtype='<U12'), array(['atterrissage'], dtype='<U12'), array(['atterrissage'], dtype='<U12'), array(['atterrissage'], dtype='<U12'), array(['atterrissage'], dtype='<U12'), array(['plusbas'], dtype='<U12'), array(['decollage'], dtype='<U12'), array(['arretetoi'], dtype='<U12'), array(['arretetoi'], dtype='<U12'), array(['tournegauche'], dtype='<U12'), array(['etatdurgence'], dtype='<U12'), array(['recule'], dtype='<U12'), array(['atterrissage'], dtype='<U12'), array(['tournegauche'], dtype='<U12'), array(['recule'], dtype='<U12'), array(['tournegauche'], dtype='<U12'), array(['decollage'], dtype='<U12'), array(['tournegauche'], dtype='<U12'), array(['recule'], dtype='<U12'), array(['recule'], dtype='<U12'), array(['atterrissage'], dtype='<U12')]\n",
      "[[0 1 1 0 0 0 0 0 1 0 0 0 1]\n",
      " [0 2 0 0 0 1 0 0 0 0 0 0 1]\n",
      " [0 2 0 0 0 0 0 0 0 0 1 0 1]\n",
      " [0 3 0 0 0 0 0 0 0 0 0 0 1]\n",
      " [1 2 0 1 0 0 0 0 0 0 0 0 1]\n",
      " [0 1 1 0 0 0 0 0 0 0 1 0 0]\n",
      " [0 1 0 0 0 0 0 0 0 0 0 0 0]\n",
      " [1 2 0 0 0 0 0 0 0 0 0 0 1]\n",
      " [0 1 1 1 0 0 0 1 0 0 0 0 1]\n",
      " [2 2 0 0 0 0 0 0 0 0 0 0 1]\n",
      " [0 2 0 0 0 0 0 0 0 0 1 0 1]\n",
      " [0 1 0 0 0 1 0 0 0 0 1 0 0]\n",
      " [0 3 0 0 0 0 0 0 0 0 0 0 1]]\n",
      "0.08\n",
      "[('droite', 0.0), ('faisunflip', 0.5), ('tournegauche', 0.0), ('plushaut', 0.0), ('recule', 0.0), ('gauche', 0.0), ('avance', 0.0), ('tournedroite', 0.0), ('atterrissage', 0.0), ('decollage', 0.0), ('arretetoi', 0.25), ('plusbas', 0.0), ('etatdurgence', 0.25)]\n"
     ]
    }
   ],
   "source": [
    "#matrice de confusion \n",
    "conf_acp = confusion_matrix(label_test, label_pred_acp); \n",
    "print(label_test); \n",
    "print(label_pred_acp);\n",
    "print(conf_acp);\n",
    "score_recon_acp = (sum(conf_acp[i][i] for i in range(len(conf_acp))))/len(label_test); \n",
    "print(score_recon_acp); \n",
    "\n",
    "#score par rapport à chaque label \n",
    "score_lab_acp = []; \n",
    "for i in range(0,nbre_ordre) : \n",
    "    score_lab_acp.append((ordre[i],conf_acp[i][i]/sum(conf_acp[i]))); \n",
    "print(score_lab_acp);    "
   ]
  },
  {
   "cell_type": "markdown",
   "metadata": {},
   "source": [
    "Les résultats donnés par la programmation dynamique sont meilleurs."
   ]
  }
 ],
 "metadata": {
  "kernelspec": {
   "display_name": "Python 3",
   "language": "python",
   "name": "python3"
  },
  "language_info": {
   "codemirror_mode": {
    "name": "ipython",
    "version": 3
   },
   "file_extension": ".py",
   "mimetype": "text/x-python",
   "name": "python",
   "nbconvert_exporter": "python",
   "pygments_lexer": "ipython3",
   "version": "3.7.3"
  }
 },
 "nbformat": 4,
 "nbformat_minor": 2
}
